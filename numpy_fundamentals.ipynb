{
 "cells": [
  {
   "cell_type": "markdown",
   "id": "18f71872",
   "metadata": {},
   "source": [
    "# 🚀 NumPy Fundamentals: A Cool Journey Through Numerical Computing\n",
    "\n",
    "Welcome to this comprehensive guide to NumPy! We'll explore the fundamental concepts with practical examples that showcase the power of numerical computing in Python.\n",
    "\n",
    "## What is NumPy?\n",
    "NumPy (Numerical Python) is the foundation of scientific computing in Python. It provides:\n",
    "- Powerful N-dimensional array objects\n",
    "- Broadcasting functions\n",
    "- Linear algebra operations\n",
    "- Random number generation\n",
    "- And much more!"
   ]
  },
  {
   "cell_type": "code",
   "execution_count": 1,
   "id": "ba5435fa",
   "metadata": {},
   "outputs": [
    {
     "name": "stdout",
     "output_type": "stream",
     "text": [
      "NumPy version: 2.3.1\n",
      "🎉 Ready to explore NumPy!\n"
     ]
    }
   ],
   "source": [
    "# Let's start by importing NumPy\n",
    "import numpy as np\n",
    "import matplotlib.pyplot as plt\n",
    "import time\n",
    "\n",
    "print(f\"NumPy version: {np.__version__}\")\n",
    "print(\"🎉 Ready to explore NumPy!\")"
   ]
  },
  {
   "cell_type": "markdown",
   "id": "01cb3f5f",
   "metadata": {},
   "source": [
    "## 1. 📊 Creating Arrays - The Foundation\n",
    "\n",
    "Arrays are the heart of NumPy. Let's explore different ways to create them!"
   ]
  },
  {
   "cell_type": "code",
   "execution_count": 3,
   "id": "def5ee00",
   "metadata": {},
   "outputs": [
    {
     "name": "stdout",
     "output_type": "stream",
     "text": [
      "1D Array: [1 2 3 4 5]\n",
      "\n",
      "2D Array:\n",
      "[[1 2 3]\n",
      " [4 5 6]\n",
      " [7 8 9]]\n",
      "\n",
      "3D Array:\n",
      "[[[1 2]\n",
      "  [3 4]]\n",
      "\n",
      " [[5 6]\n",
      "  [7 8]]]\n",
      "\n",
      "📏 Shapes: 1D: (5,), 2D: (3, 3), 3D: (2, 2, 2)\n"
     ]
    }
   ],
   "source": [
    "# Creating arrays from lists\n",
    "arr_1d = np.array([1, 2, 3, 4, 5])\n",
    "arr_2d = np.array([[1, 2, 3], [4, 5, 6], [7, 8, 9]])\n",
    "arr_3d = np.array([[[1, 2], [3, 4]], [[5, 6], [7, 8]]])\n",
    "\n",
    "print(\"1D Array:\", arr_1d)\n",
    "print(\"\\n2D Array:\")\n",
    "print(arr_2d)\n",
    "print(\"\\n3D Array:\")\n",
    "print(arr_3d)\n",
    "\n",
    "print(f\"\\n📏 Shapes: 1D: {arr_1d.shape}, 2D: {arr_2d.shape}, 3D: {arr_3d.shape}\")"
   ]
  },
  {
   "cell_type": "code",
   "execution_count": 4,
   "id": "0a94ecd6",
   "metadata": {},
   "outputs": [
    {
     "name": "stdout",
     "output_type": "stream",
     "text": [
      "🔢 Zeros array:\n",
      "[[0. 0. 0. 0.]\n",
      " [0. 0. 0. 0.]\n",
      " [0. 0. 0. 0.]]\n",
      "\n",
      "🎯 Identity matrix:\n",
      "[[1. 0. 0. 0.]\n",
      " [0. 1. 0. 0.]\n",
      " [0. 0. 1. 0.]\n",
      " [0. 0. 0. 1.]]\n",
      "\n",
      "🎲 Random array:\n",
      "[[0.06980352 0.35899895 0.15447775]\n",
      " [0.36629534 0.43878406 0.12114824]\n",
      " [0.47008367 0.80116837 0.44053337]]\n"
     ]
    }
   ],
   "source": [
    "# Cool array creation functions\n",
    "zeros = np.zeros((3, 4))\n",
    "ones = np.ones((2, 3, 4))\n",
    "full_array = np.full((3, 3), 7)\n",
    "identity = np.eye(4)\n",
    "random_array = np.random.random((3, 3))\n",
    "\n",
    "print(\"🔢 Zeros array:\")\n",
    "print(zeros)\n",
    "print(\"\\n🎯 Identity matrix:\")\n",
    "print(identity)\n",
    "print(\"\\n🎲 Random array:\")\n",
    "print(random_array)"
   ]
  },
  {
   "cell_type": "code",
   "execution_count": null,
   "id": "0ddc0f39",
   "metadata": {},
   "outputs": [],
   "source": [
    "# Range and spacing functions\n",
    "range_array = np.arange(0, 20, 2)  # start, stop, step\n",
    "linspace_array = np.linspace(0, 10, 5)  # start, stop, num_points\n",
    "logspace_array = np.logspace(0, 2, 5)  # 10^0 to 10^2, 5 points\n",
    "\n",
    "print(\"📈 Range array (0 to 20, step 2):\", range_array)\n",
    "print(\"📏 Linspace array (0 to 10, 5 points):\", linspace_array)\n",
    "print(\"📊 Logspace array (10^0 to 10^2, 5 points):\", logspace_array)"
   ]
  },
  {
   "cell_type": "markdown",
   "id": "f97ac3d2",
   "metadata": {},
   "source": [
    "## 2. 🔍 Array Inspection and Properties\n",
    "\n",
    "Understanding your arrays is crucial!"
   ]
  },
  {
   "cell_type": "code",
   "execution_count": null,
   "id": "786a7ef3",
   "metadata": {},
   "outputs": [],
   "source": [
    "# Create a sample array for inspection\n",
    "sample_array = np.random.randint(1, 100, size=(4, 5))\n",
    "\n",
    "print(\"🔬 Sample Array:\")\n",
    "print(sample_array)\n",
    "print(f\"\\n📏 Shape: {sample_array.shape}\")\n",
    "print(f\"📐 Dimensions: {sample_array.ndim}\")\n",
    "print(f\"📊 Size (total elements): {sample_array.size}\")\n",
    "print(f\"🏷️ Data type: {sample_array.dtype}\")\n",
    "print(f\"💾 Memory usage: {sample_array.nbytes} bytes\")\n",
    "print(f\"📋 Item size: {sample_array.itemsize} bytes per element\")"
   ]
  },
  {
   "cell_type": "markdown",
   "id": "947521a6",
   "metadata": {},
   "source": [
    "## 3. ✂️ Array Indexing and Slicing\n",
    "\n",
    "Accessing and modifying array elements like a pro!"
   ]
  },
  {
   "cell_type": "code",
   "execution_count": null,
   "id": "81390e7a",
   "metadata": {},
   "outputs": [],
   "source": [
    "# Create a sample 2D array\n",
    "matrix = np.arange(20).reshape(4, 5)\n",
    "print(\"🎯 Original Matrix:\")\n",
    "print(matrix)\n",
    "\n",
    "# Basic indexing\n",
    "print(f\"\\n🔍 Element at [2, 3]: {matrix[2, 3]}\")\n",
    "print(f\"🔍 First row: {matrix[0, :]}\")\n",
    "print(f\"🔍 Last column: {matrix[:, -1]}\")\n",
    "\n",
    "# Advanced slicing\n",
    "print(\"\\n✂️ Submatrix [1:3, 2:4]:\")\n",
    "print(matrix[1:3, 2:4])\n",
    "\n",
    "# Boolean indexing\n",
    "mask = matrix > 10\n",
    "print(f\"\\n🎭 Elements > 10: {matrix[mask]}\")\n",
    "\n",
    "# Fancy indexing\n",
    "rows = [0, 2, 3]\n",
    "cols = [1, 3, 4]\n",
    "print(f\"\\n✨ Fancy indexing [rows={rows}, cols={cols}]: {matrix[rows, cols]}\")"
   ]
  },
  {
   "cell_type": "markdown",
   "id": "820d04e9",
   "metadata": {},
   "source": [
    "## 4. 🧮 Mathematical Operations\n",
    "\n",
    "NumPy makes math operations blazingly fast!"
   ]
  },
  {
   "cell_type": "code",
   "execution_count": null,
   "id": "2ad6d0d2",
   "metadata": {},
   "outputs": [],
   "source": [
    "# Element-wise operations\n",
    "a = np.array([1, 2, 3, 4])\n",
    "b = np.array([5, 6, 7, 8])\n",
    "\n",
    "print(\"🔢 Array a:\", a)\n",
    "print(\"🔢 Array b:\", b)\n",
    "print(f\"\\n➕ Addition: {a + b}\")\n",
    "print(f\"➖ Subtraction: {a - b}\")\n",
    "print(f\"✖️ Multiplication: {a * b}\")\n",
    "print(f\"➗ Division: {a / b}\")\n",
    "print(f\"🔺 Power: {a ** 2}\")\n",
    "print(f\"🌊 Square root: {np.sqrt(a)}\")\n",
    "print(f\"📐 Sine: {np.sin(a)}\")\n",
    "print(f\"📊 Exponential: {np.exp(a)}\")"
   ]
  },
  {
   "cell_type": "code",
   "execution_count": null,
   "id": "d1227b8b",
   "metadata": {},
   "outputs": [],
   "source": [
    "# Statistical operations\n",
    "data = np.random.normal(50, 15, 1000)  # Normal distribution: mean=50, std=15\n",
    "\n",
    "print(\"📊 Statistical Analysis of Random Data:\")\n",
    "print(f\"📈 Mean: {np.mean(data):.2f}\")\n",
    "print(f\"📊 Median: {np.median(data):.2f}\")\n",
    "print(f\"📏 Standard Deviation: {np.std(data):.2f}\")\n",
    "print(f\"📋 Variance: {np.var(data):.2f}\")\n",
    "print(f\"🔺 Maximum: {np.max(data):.2f}\")\n",
    "print(f\"🔻 Minimum: {np.min(data):.2f}\")\n",
    "print(f\"📐 25th Percentile: {np.percentile(data, 25):.2f}\")\n",
    "print(f\"📐 75th Percentile: {np.percentile(data, 75):.2f}\")"
   ]
  },
  {
   "cell_type": "markdown",
   "id": "dca867f8",
   "metadata": {},
   "source": [
    "## 5. 🎭 Broadcasting - NumPy's Superpower\n",
    "\n",
    "Broadcasting allows operations on arrays of different shapes!"
   ]
  },
  {
   "cell_type": "code",
   "execution_count": null,
   "id": "6d7efbcc",
   "metadata": {},
   "outputs": [],
   "source": [
    "# Broadcasting examples\n",
    "matrix = np.arange(12).reshape(3, 4)\n",
    "row_vector = np.array([1, 2, 3, 4])\n",
    "col_vector = np.array([[10], [20], [30]])\n",
    "scalar = 100\n",
    "\n",
    "print(\"🎭 Broadcasting Examples:\")\n",
    "print(\"\\nOriginal matrix:\")\n",
    "print(matrix)\n",
    "print(f\"Matrix shape: {matrix.shape}\")\n",
    "\n",
    "print(f\"\\nRow vector: {row_vector} (shape: {row_vector.shape})\")\n",
    "print(\"Matrix + Row vector:\")\n",
    "print(matrix + row_vector)\n",
    "\n",
    "print(f\"\\nColumn vector: {col_vector.ravel()} (shape: {col_vector.shape})\")\n",
    "print(\"Matrix + Column vector:\")\n",
    "print(matrix + col_vector)\n",
    "\n",
    "print(f\"\\nScalar: {scalar}\")\n",
    "print(\"Matrix * Scalar:\")\n",
    "print(matrix * scalar)"
   ]
  },
  {
   "cell_type": "markdown",
   "id": "a5c00ea7",
   "metadata": {},
   "source": [
    "## 6. 🔄 Array Manipulation\n",
    "\n",
    "Reshaping, splitting, and joining arrays!"
   ]
  },
  {
   "cell_type": "code",
   "execution_count": null,
   "id": "fb4588ec",
   "metadata": {},
   "outputs": [],
   "source": [
    "# Reshaping arrays\n",
    "original = np.arange(24)\n",
    "print(\"🔄 Array Reshaping:\")\n",
    "print(f\"Original array: {original}\")\n",
    "print(f\"Shape: {original.shape}\")\n",
    "\n",
    "# Different reshape options\n",
    "reshaped_2d = original.reshape(4, 6)\n",
    "reshaped_3d = original.reshape(2, 3, 4)\n",
    "\n",
    "print(\"\\n📊 Reshaped to 4x6:\")\n",
    "print(reshaped_2d)\n",
    "print(\"\\n📦 Reshaped to 2x3x4:\")\n",
    "print(reshaped_3d)\n",
    "\n",
    "# Flattening\n",
    "flattened = reshaped_2d.flatten()\n",
    "print(f\"\\n🌊 Flattened back: {flattened}\")"
   ]
  },
  {
   "cell_type": "code",
   "execution_count": null,
   "id": "fef575b9",
   "metadata": {},
   "outputs": [],
   "source": [
    "# Joining and splitting arrays\n",
    "arr1 = np.array([[1, 2], [3, 4]])\n",
    "arr2 = np.array([[5, 6], [7, 8]])\n",
    "\n",
    "print(\"🔗 Joining Arrays:\")\n",
    "print(\"Array 1:\")\n",
    "print(arr1)\n",
    "print(\"Array 2:\")\n",
    "print(arr2)\n",
    "\n",
    "# Concatenation\n",
    "h_concat = np.hstack([arr1, arr2])  # Horizontal\n",
    "v_concat = np.vstack([arr1, arr2])  # Vertical\n",
    "\n",
    "print(\"\\n↔️ Horizontal concatenation:\")\n",
    "print(h_concat)\n",
    "print(\"\\n↕️ Vertical concatenation:\")\n",
    "print(v_concat)\n",
    "\n",
    "# Splitting\n",
    "print(\"\\n✂️ Splitting the horizontal concatenation:\")\n",
    "split_arrays = np.hsplit(h_concat, 2)\n",
    "print(\"First part:\", split_arrays[0])\n",
    "print(\"Second part:\", split_arrays[1])"
   ]
  },
  {
   "cell_type": "markdown",
   "id": "6cb52f9a",
   "metadata": {},
   "source": [
    "## 7. 🎲 Random Numbers and Simulations\n",
    "\n",
    "NumPy's random module is perfect for simulations and statistical analysis!"
   ]
  },
  {
   "cell_type": "code",
   "execution_count": null,
   "id": "465dd22a",
   "metadata": {},
   "outputs": [],
   "source": [
    "# Set seed for reproducibility\n",
    "np.random.seed(42)\n",
    "\n",
    "print(\"🎲 Random Number Generation:\")\n",
    "\n",
    "# Different distributions\n",
    "uniform = np.random.uniform(0, 1, 10)\n",
    "normal = np.random.normal(0, 1, 10)\n",
    "integers = np.random.randint(1, 100, 10)\n",
    "choice = np.random.choice(['A', 'B', 'C', 'D'], 10)\n",
    "\n",
    "print(f\"🎯 Uniform [0,1]: {uniform[:5]}...\")  # Show first 5\n",
    "print(f\"📊 Normal (μ=0, σ=1): {normal[:5]}...\")\n",
    "print(f\"🔢 Random integers [1,100): {integers[:5]}...\")\n",
    "print(f\"🎪 Random choice: {choice[:5]}...\")\n",
    "\n",
    "# Shuffle an array\n",
    "deck = np.arange(1, 53)  # Card deck\n",
    "np.random.shuffle(deck)\n",
    "print(f\"\\n🃏 Shuffled deck (first 10): {deck[:10]}\")"
   ]
  },
  {
   "cell_type": "code",
   "execution_count": null,
   "id": "4a4f6e15",
   "metadata": {},
   "outputs": [],
   "source": [
    "# Monte Carlo simulation: Estimating π\n",
    "print(\"🎯 Monte Carlo Simulation: Estimating π\")\n",
    "\n",
    "n_points = 100000\n",
    "x = np.random.uniform(-1, 1, n_points)\n",
    "y = np.random.uniform(-1, 1, n_points)\n",
    "\n",
    "# Points inside unit circle\n",
    "inside_circle = (x**2 + y**2) <= 1\n",
    "pi_estimate = 4 * np.sum(inside_circle) / n_points\n",
    "\n",
    "print(f\"🔢 Number of points: {n_points:,}\")\n",
    "print(f\"🎯 Points inside circle: {np.sum(inside_circle):,}\")\n",
    "print(f\"🥧 Estimated π: {pi_estimate:.6f}\")\n",
    "print(f\"📊 Actual π: {np.pi:.6f}\")\n",
    "print(f\"❌ Error: {abs(pi_estimate - np.pi):.6f}\")"
   ]
  },
  {
   "cell_type": "markdown",
   "id": "d59a12cd",
   "metadata": {},
   "source": [
    "## 8. 🧊 Linear Algebra with NumPy\n",
    "\n",
    "Powerful linear algebra operations made simple!"
   ]
  },
  {
   "cell_type": "code",
   "execution_count": null,
   "id": "a6182240",
   "metadata": {},
   "outputs": [],
   "source": [
    "# Matrix operations\n",
    "A = np.array([[1, 2, 3], [4, 5, 6], [7, 8, 9]])\n",
    "B = np.array([[9, 8, 7], [6, 5, 4], [3, 2, 1]])\n",
    "v = np.array([1, 2, 3])\n",
    "\n",
    "print(\"🧊 Linear Algebra Operations:\")\n",
    "print(\"Matrix A:\")\n",
    "print(A)\n",
    "print(\"\\nMatrix B:\")\n",
    "print(B)\n",
    "print(f\"\\nVector v: {v}\")\n",
    "\n",
    "# Matrix multiplication\n",
    "matrix_mult = np.dot(A, B)  # or A @ B\n",
    "print(\"\\n✖️ Matrix multiplication A @ B:\")\n",
    "print(matrix_mult)\n",
    "\n",
    "# Matrix-vector multiplication\n",
    "mv_mult = np.dot(A, v)\n",
    "print(f\"\\n🎯 Matrix-vector multiplication A @ v: {mv_mult}\")\n",
    "\n",
    "# Transpose\n",
    "print(\"\\n🔄 Transpose of A:\")\n",
    "print(A.T)"
   ]
  },
  {
   "cell_type": "code",
   "execution_count": null,
   "id": "6620baf4",
   "metadata": {},
   "outputs": [],
   "source": [
    "# Advanced linear algebra\n",
    "# Create a well-conditioned matrix\n",
    "C = np.array([[4, 2, 1], [2, 5, 3], [1, 3, 6]])\n",
    "\n",
    "print(\"🔬 Advanced Linear Algebra:\")\n",
    "print(\"Matrix C:\")\n",
    "print(C)\n",
    "\n",
    "# Determinant\n",
    "det_C = np.linalg.det(C)\n",
    "print(f\"\\n🎯 Determinant: {det_C:.2f}\")\n",
    "\n",
    "# Inverse\n",
    "if det_C != 0:\n",
    "    inv_C = np.linalg.inv(C)\n",
    "    print(\"\\n🔄 Inverse matrix:\")\n",
    "    print(inv_C)\n",
    "    \n",
    "    # Verify: C @ inv(C) should be identity\n",
    "    identity_check = np.dot(C, inv_C)\n",
    "    print(\"\\n✅ Verification C @ inv(C):\")\n",
    "    print(np.round(identity_check, 10))  # Round to avoid floating point errors\n",
    "\n",
    "# Eigenvalues and eigenvectors\n",
    "eigenvals, eigenvecs = np.linalg.eig(C)\n",
    "print(f\"\\n🌟 Eigenvalues: {eigenvals}\")\n",
    "print(\"\\n🎭 Eigenvectors:\")\n",
    "print(eigenvecs)"
   ]
  },
  {
   "cell_type": "markdown",
   "id": "f06e6eee",
   "metadata": {},
   "source": [
    "## 9. ⚡ Performance Comparison\n",
    "\n",
    "See why NumPy is so much faster than pure Python!"
   ]
  },
  {
   "cell_type": "code",
   "execution_count": null,
   "id": "da9da07e",
   "metadata": {},
   "outputs": [],
   "source": [
    "# Performance comparison: NumPy vs Pure Python\n",
    "size = 1000000\n",
    "\n",
    "# Create data\n",
    "python_list = list(range(size))\n",
    "numpy_array = np.arange(size)\n",
    "\n",
    "print(\"⚡ Performance Comparison: Sum of 1 million numbers\")\n",
    "print(f\"📊 Data size: {size:,} elements\")\n",
    "\n",
    "# Pure Python timing\n",
    "start_time = time.time()\n",
    "python_sum = sum(python_list)\n",
    "python_time = time.time() - start_time\n",
    "\n",
    "# NumPy timing\n",
    "start_time = time.time()\n",
    "numpy_sum = np.sum(numpy_array)\n",
    "numpy_time = time.time() - start_time\n",
    "\n",
    "print(f\"\\n🐍 Pure Python time: {python_time:.6f} seconds\")\n",
    "print(f\"🚀 NumPy time: {numpy_time:.6f} seconds\")\n",
    "print(f\"⚡ NumPy is {python_time/numpy_time:.1f}x faster!\")\n",
    "print(f\"✅ Results match: {python_sum == numpy_sum}\")"
   ]
  },
  {
   "cell_type": "markdown",
   "id": "17067f32",
   "metadata": {},
   "source": [
    "## 10. 📈 Practical Example: Data Analysis\n",
    "\n",
    "Let's analyze some simulated sales data!"
   ]
  },
  {
   "cell_type": "code",
   "execution_count": null,
   "id": "e2f70ce5",
   "metadata": {},
   "outputs": [],
   "source": [
    "# Simulate sales data for a year\n",
    "np.random.seed(123)\n",
    "\n",
    "# Generate daily sales for 365 days\n",
    "base_sales = 1000\n",
    "trend = np.linspace(0, 200, 365)  # Growing trend\n",
    "seasonality = 100 * np.sin(2 * np.pi * np.arange(365) / 365)  # Yearly cycle\n",
    "noise = np.random.normal(0, 50, 365)  # Random variation\n",
    "\n",
    "daily_sales = base_sales + trend + seasonality + noise\n",
    "daily_sales = np.maximum(daily_sales, 0)  # Ensure non-negative sales\n",
    "\n",
    "print(\"📈 Sales Data Analysis\")\n",
    "print(f\"📊 Total days: {len(daily_sales)}\")\n",
    "print(f\"💰 Average daily sales: ${np.mean(daily_sales):.2f}\")\n",
    "print(f\"📈 Total annual sales: ${np.sum(daily_sales):,.2f}\")\n",
    "print(f\"🔺 Highest daily sales: ${np.max(daily_sales):.2f}\")\n",
    "print(f\"🔻 Lowest daily sales: ${np.min(daily_sales):.2f}\")\n",
    "print(f\"📏 Standard deviation: ${np.std(daily_sales):.2f}\")\n",
    "\n",
    "# Monthly analysis\n",
    "monthly_sales = daily_sales.reshape(12, -1)  # Approximate months\n",
    "monthly_avg = np.mean(monthly_sales, axis=1)\n",
    "\n",
    "print(\"\\n📅 Monthly Analysis:\")\n",
    "months = ['Jan', 'Feb', 'Mar', 'Apr', 'May', 'Jun',\n",
    "          'Jul', 'Aug', 'Sep', 'Oct', 'Nov', 'Dec']\n",
    "\n",
    "for i, month in enumerate(months):\n",
    "    print(f\"{month}: ${monthly_avg[i]:.2f}\")\n",
    "\n",
    "best_month = months[np.argmax(monthly_avg)]\n",
    "worst_month = months[np.argmin(monthly_avg)]\n",
    "print(f\"\\n🏆 Best month: {best_month}\")\n",
    "print(f\"📉 Worst month: {worst_month}\")"
   ]
  },
  {
   "cell_type": "code",
   "execution_count": null,
   "id": "85c2dcda",
   "metadata": {},
   "outputs": [],
   "source": [
    "# Create a simple visualization\n",
    "plt.figure(figsize=(12, 6))\n",
    "plt.plot(daily_sales, alpha=0.7, linewidth=1, label='Daily Sales')\n",
    "plt.plot(np.convolve(daily_sales, np.ones(30)/30, mode='valid'), \n",
    "         color='red', linewidth=2, label='30-day Moving Average')\n",
    "\n",
    "plt.title('📈 Daily Sales Throughout the Year', fontsize=16, fontweight='bold')\n",
    "plt.xlabel('Day of Year')\n",
    "plt.ylabel('Sales ($)')\n",
    "plt.legend()\n",
    "plt.grid(True, alpha=0.3)\n",
    "plt.tight_layout()\n",
    "plt.show()\n",
    "\n",
    "print(\"🎉 Visualization complete! The red line shows the 30-day moving average.\")"
   ]
  },
  {
   "cell_type": "markdown",
   "id": "f56148af",
   "metadata": {},
   "source": [
    "## 🎓 Key Takeaways\n",
    "\n",
    "Congratulations! You've learned the fundamentals of NumPy:\n",
    "\n",
    "1. **🏗️ Array Creation**: Various ways to create and initialize arrays\n",
    "2. **🔍 Array Properties**: Understanding shape, size, and data types\n",
    "3. **✂️ Indexing & Slicing**: Accessing and modifying array elements\n",
    "4. **🧮 Mathematical Operations**: Element-wise and statistical operations\n",
    "5. **🎭 Broadcasting**: Operations on arrays of different shapes\n",
    "6. **🔄 Array Manipulation**: Reshaping, joining, and splitting\n",
    "7. **🎲 Random Numbers**: Generating random data and simulations\n",
    "8. **🧊 Linear Algebra**: Matrix operations and decompositions\n",
    "9. **⚡ Performance**: Why NumPy is faster than pure Python\n",
    "10. **📈 Practical Applications**: Real-world data analysis\n",
    "\n",
    "## 🚀 Next Steps\n",
    "\n",
    "- Explore **Pandas** for data manipulation\n",
    "- Learn **Matplotlib/Seaborn** for advanced visualization\n",
    "- Dive into **SciPy** for scientific computing\n",
    "- Try **Scikit-learn** for machine learning\n",
    "\n",
    "Happy coding! 🐍✨"
   ]
  }
 ],
 "metadata": {
  "kernelspec": {
   "display_name": "Python 3",
   "language": "python",
   "name": "python3"
  },
  "language_info": {
   "codemirror_mode": {
    "name": "ipython",
    "version": 3
   },
   "file_extension": ".py",
   "mimetype": "text/x-python",
   "name": "python",
   "nbconvert_exporter": "python",
   "pygments_lexer": "ipython3",
   "version": "3.13.5"
  }
 },
 "nbformat": 4,
 "nbformat_minor": 5
}
